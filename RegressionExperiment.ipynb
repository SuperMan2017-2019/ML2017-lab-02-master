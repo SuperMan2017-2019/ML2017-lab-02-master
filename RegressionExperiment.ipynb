{
 "cells": [
  {
   "cell_type": "code",
   "execution_count": 60,
   "metadata": {
    "collapsed": true
   },
   "outputs": [],
   "source": [
    "#    STEP 1:\n",
    "# Load the experiment data by import load_svmlight_file function in sklearn library\n",
    "from sklearn.datasets import load_svmlight_file\n",
    "import matplotlib.pyplot as plt \n",
    "import numpy as np\n",
    "\n",
    "#this function to read the experiment of data\n",
    "def getData(fileName): # fileName:  path of the data\n",
    "    \n",
    "\tdata = load_svmlight_file(fileName)\n",
    "\treturn data[0], data[1] #return data: data [0] The data matrix, each row is a sample, each column is a dimension\n",
    "                                        # data [1] is an array of predictions for each sample\n",
    "\n",
    "#this function to Add a column after the matrix data\n",
    "def addColumnData(dataMatrix, dataType): \n",
    "   \n",
    "    row, col = dataMatrix.shape\n",
    "    onesArray = np.ones(row)\n",
    "    dataArray = dataMatrix.toarray()\n",
    "    if dataType == \"train\":\n",
    "        dataTrans = np.column_stack((dataArray, onesArray))\n",
    "    elif dataType == 'test':\n",
    "        zeroArray = np.zeros(row)\n",
    "        tempTrans = np.column_stack((dataArray, zeroArray))\n",
    "        dataTrans = np.column_stack((tempTrans, onesArray))\n",
    "    return dataTrans"
   ]
  },
  {
   "cell_type": "code",
   "execution_count": 61,
   "metadata": {
    "collapsed": true
   },
   "outputs": [],
   "source": [
    "fileName = 'datasets/a9a' #path of the data\n",
    "dataMatrix, dataLabel = getData(fileName)\n",
    "dataArray = addColumnData(dataMatrix, \"train\")"
   ]
  },
  {
   "cell_type": "code",
   "execution_count": 62,
   "metadata": {},
   "outputs": [
    {
     "data": {
      "text/plain": [
       "(32561, 124)"
      ]
     },
     "execution_count": 62,
     "metadata": {},
     "output_type": "execute_result"
    }
   ],
   "source": [
    "dataArray.shape"
   ]
  },
  {
   "cell_type": "code",
   "execution_count": 63,
   "metadata": {
    "collapsed": true
   },
   "outputs": [],
   "source": [
    "testFileName = 'datasets/a9a.t' \n",
    "testDataMatrix, testDataLabel = getData(testFileName)\n",
    "testDataArray = addColumnData(testDataMatrix, 'test')"
   ]
  },
  {
   "cell_type": "code",
   "execution_count": 64,
   "metadata": {},
   "outputs": [
    {
     "data": {
      "text/plain": [
       "(16281, 124)"
      ]
     },
     "execution_count": 64,
     "metadata": {},
     "output_type": "execute_result"
    }
   ],
   "source": [
    "testDataArray.shape"
   ]
  },
  {
   "cell_type": "code",
   "execution_count": 65,
   "metadata": {
    "collapsed": true
   },
   "outputs": [],
   "source": [
    "# this function  for Initialize the weights\n",
    "def initialWeights(data, initialModel = None): \n",
    "\n",
    "\trow, col = data.shape\n",
    "\tif initialModel == None:\n",
    "\t\tweights = np.zeros(col)\n",
    "\telif initialModel == \"random\":\n",
    "\t\tweights = np.random.rand(col)\n",
    "\telif initialModel == \"normality\":\n",
    "\t\tweights = np.random.standard_normal(col)\n",
    "\treturn weights # Returns the weight value"
   ]
  },
  {
   "cell_type": "code",
   "execution_count": 66,
   "metadata": {
    "collapsed": true
   },
   "outputs": [],
   "source": [
    "# this function perform Calculate y * W * x\n",
    "def getYWX(dataMatrix, dataLabel, weightsParam): \n",
    "\tpredictTemp = dataMatrix * weightsParam\n",
    "\tpredictValueArray = predictTemp.sum(axis = 1)\n",
    "\ttempValue = dataLabel * predictValueArray \n",
    "\treturn np.longfloat(tempValue)"
   ]
  },
  {
   "cell_type": "code",
   "execution_count": 67,
   "metadata": {
    "collapsed": true
   },
   "outputs": [],
   "source": [
    "# this function for Calculate loss value\n",
    "def lossFunction(dataMatrix, dataLabel, weightsParam, lamb): \n",
    "    \n",
    "    yWX = getYWX(dataMatrix, dataLabel, weightsParam)\n",
    "    row, col = dataMatrix.shape\n",
    "    onesArray = np.ones(row)\n",
    "    eYWX = np.longfloat(np.exp((-1) * yWX))\n",
    "    addEYWX = onesArray + eYWX\n",
    "    logETWX = np.log(addEYWX)\n",
    "    meanETWX = np.mean(logETWX)\n",
    "    w2 = np.sum(weightsParam * weightsParam) * lamb * 0.5\n",
    "    loss = meanETWX + w2\n",
    "    return loss"
   ]
  },
  {
   "cell_type": "code",
   "execution_count": 68,
   "metadata": {
    "collapsed": true
   },
   "outputs": [],
   "source": [
    "def minibatchData(dataMatrix, dataLabel, sampleNum):\n",
    "    row, col = dataMatrix.shape\n",
    "    randNum = np.random.randint(0, row-51)\n",
    "    miniData = dataMatrix[randNum:(randNum+sampleNum), :]\n",
    "    miniDataLabel = dataLabel[randNum:(randNum+sampleNum)]\n",
    "    return miniData, miniDataLabel"
   ]
  },
  {
   "cell_type": "code",
   "execution_count": 69,
   "metadata": {
    "collapsed": true
   },
   "outputs": [],
   "source": [
    "#this function  Stochastic gradient declines\n",
    "def stochasticGradientDescent(dataMatrix, dataLabel, weightsParam, lamb):\n",
    "      \n",
    "    miniDataMatrix, miniDataLabel = minibatchData(dataMatrix, dataLabel, 50)\n",
    "    row, col = miniDataMatrix.shape\n",
    "    YWX = getYWX(miniDataMatrix, miniDataLabel, weightsParam)\n",
    "    eYWX = np.exp(YWX)\n",
    "    onesArray = np.ones(row)\n",
    "    addEYWX = onesArray + eYWX\n",
    "    transData = np.transpose(miniDataMatrix)\n",
    "    temp = transData / addEYWX * miniDataLabel * (-1)\n",
    "    G = np.mean(temp, axis=1) + lamb * weightsParam\n",
    "    return G"
   ]
  },
  {
   "cell_type": "code",
   "execution_count": 70,
   "metadata": {
    "collapsed": true
   },
   "outputs": [],
   "source": [
    "#this function for update weights\n",
    "def updataWeights(weightsParam, D, alpha):\n",
    "\n",
    "\tnewWeights = weightsParam - alpha * D\n",
    "\treturn newWeights"
   ]
  },
  {
   "cell_type": "code",
   "execution_count": 71,
   "metadata": {
    "collapsed": true
   },
   "outputs": [],
   "source": [
    "def addV(weightsParam, v, alpha):\n",
    "    newWeights = weightsParam - alpha * v\n",
    "    return newWeights    "
   ]
  },
  {
   "cell_type": "code",
   "execution_count": 72,
   "metadata": {
    "collapsed": true
   },
   "outputs": [],
   "source": [
    "def  plotPicture(LossList1, LossList2, LossList3, LossList4):\n",
    "    \n",
    "    plt.title('loss value vary')\n",
    "    plt.plot(LossList1, color=\"blue\", linewidth=2.5, linestyle = \"-\", label=\"NAGLoss\")\n",
    "    plt.plot(LossList2, color=\"red\", linewidth=2.5, linestyle=\"-\", label=\"RMSPropLoss\")\n",
    "    plt.plot(LossList3, color=\"green\", linewidth=2.5, linestyle=\"-\", label=\"AdadeltaLoss\")\n",
    "    plt.plot(LossList4, color=\"black\", linewidth=2.5, linestyle=\"-\", label=\"AdamLoss\")\n",
    "    plt.legend(loc=\"upper right\")\n",
    "    plt.xlabel(\"Figure1\")\n",
    "    plt.ylabel(\"loss\")\n",
    "    plt.show()"
   ]
  },
  {
   "cell_type": "code",
   "execution_count": 73,
   "metadata": {
    "collapsed": true
   },
   "outputs": [],
   "source": [
    "def NAGUpdateWeights(weightsParam, v, D, alpha1, alpha2):\n",
    "   \n",
    "    newV = alpha1 * v + alpha2 * D\n",
    "    newWeights = weightsParam - newV\n",
    "    return newWeights, newV"
   ]
  },
  {
   "cell_type": "code",
   "execution_count": 74,
   "metadata": {
    "collapsed": true
   },
   "outputs": [],
   "source": [
    "def RMSPROPUpdateWeights(weightsParam, D, decayRate, cacheParam, learningRate):  \n",
    "    eps = 1.0e-8\n",
    "    newcache = decayRate * cacheParam + (1 - decayRate) * D * D\n",
    "    newWeights = weightsParam - learningRate * D / (np.sqrt(newcache+ eps))\n",
    "    return newWeights, newcache"
   ]
  },
  {
   "cell_type": "code",
   "execution_count": 75,
   "metadata": {
    "collapsed": true
   },
   "outputs": [],
   "source": [
    "def adaDeltaUpdateWeights(weightsParam, DParam, GTParam, deltaParam, GRateParam):\n",
    "    eps = 1.0e-6\n",
    "    newGT = GRateParam * GTParam + (1 - GRateParam) * DParam * DParam\n",
    "    tempValue = np.sqrt(deltaParam + eps) / np.sqrt(newGT + eps) * DParam * (-1)\n",
    "    newWeights = weightsParam + tempValue\n",
    "    newdelta = GRateParam * deltaParam + (1-GRateParam) * tempValue * tempValue\n",
    "    return newWeights, newGT, newdelta"
   ]
  },
  {
   "cell_type": "code",
   "execution_count": 76,
   "metadata": {
    "collapsed": true
   },
   "outputs": [],
   "source": [
    "def adamUpdateWeights(weightsParam, DParam, mParam, vParam, belta1, belta2, alpha, t): # Adam updates weight\n",
    "    \n",
    "    eps = 1.0e-6\n",
    "    newM = belta1 * mParam + (1-belta1) * DParam\n",
    "    newV = belta2 * vParam + (1-belta2) * DParam * DParam\n",
    "    tempM = newM / (1-np.power(belta1,t))\n",
    "    tempV = newV / (1-np.power(belta2,t))\n",
    "    newWeights = weightsParam - alpha * tempM / (np.sqrt(tempV) + eps)\n",
    "    return newWeights, newM, newV"
   ]
  },
  {
   "cell_type": "code",
   "execution_count": 77,
   "metadata": {
    "collapsed": true
   },
   "outputs": [],
   "source": [
    "# from here start the program \n",
    "def run():\n",
    "    \n",
    "    fileName = 'datasets/a9a'\n",
    "    dataMatrix, dataLabel = getData(fileName)\n",
    "    dataArray = addColumnData(dataMatrix, \"train\")\n",
    "    testFileName = 'datasets/a9a.t'\n",
    "    testDataMatrix, testDataLabel = getData(testFileName)\n",
    "    testDataArray = addColumnData(testDataMatrix, 'test')\n",
    "    weights = initialWeights(testDataArray, initialModel = \"random\")\n",
    "    weightsRms = initialWeights(testDataArray, initialModel = \"random\")\n",
    "    weightsAda = initialWeights(testDataArray, initialModel = 'random')\n",
    "    weightsAdam = initialWeights(testDataArray, initialModel = \"random\")\n",
    "    vNAG = initialWeights(testDataArray, initialModel = None)\n",
    "    cache = initialWeights(testDataArray, initialModel = None)\n",
    "    GT = initialWeights(testDataArray, initialModel = None)\n",
    "    delta = initialWeights(testDataArray, initialModel = None)\n",
    "    adamM = initialWeights(testDataArray, initialModel = None)\n",
    "    adamV = initialWeights(testDataArray, initialModel = None)\n",
    "    NAGLossList = []\n",
    "    RMSLossList = []\n",
    "    ADALossList = []\n",
    "    AdamLossList = []\n",
    "    iterNum = 200\n",
    "    alpha1 = 0.9  #NAG parameters\n",
    "    alpha2 = 0.01  #learnRate\n",
    "    alpha3 = 0.5  # Loss function parameters in the weights\n",
    "    decayRate = 0.9\n",
    "    GRate = 0.95\n",
    "    belta1 = 0.9\n",
    "    belta2 = 0.999\n",
    "    adamAlpha = 0.01\n",
    "    for i in range(iterNum):\n",
    "        #NAG\n",
    "        testLoss = lossFunction(testDataArray, testDataLabel, weights, alpha3)\n",
    "        NAGLossList.append(testLoss)\n",
    "        weightNAG = addV(weights, vNAG, alpha1)\n",
    "        DNAG = stochasticGradientDescent(dataArray, dataLabel, weightNAG, alpha3)\n",
    "        weights, vNAG =NAGUpdateWeights(weightNAG, vNAG, DNAG, alpha1, alpha2)\n",
    "        #RMSprop\n",
    "        testLoss1 = lossFunction(testDataArray, testDataLabel, weightsRms, alpha3)\n",
    "        RMSLossList.append(testLoss1)\n",
    "        DRMS = stochasticGradientDescent(dataArray, dataLabel, weightsRms, alpha3)\n",
    "        weightsRms, cache = RMSPROPUpdateWeights(weightsRms, DRMS, decayRate, cache, alpha2)\n",
    "        #adaDelta\n",
    "        testLoss2 = lossFunction(testDataArray, testDataLabel, weightsAda, alpha3)\n",
    "        ADALossList.append(testLoss2)\n",
    "        DADA = stochasticGradientDescent(dataArray, dataLabel, weightsAda, alpha3)\n",
    "        weightsAda, GT, delta = adaDeltaUpdateWeights(weightsAda, DADA, GT, delta, GRate)\n",
    "        #Adam\n",
    "        testLoss3 = lossFunction(testDataArray, testDataLabel, weightsAdam, alpha3)\n",
    "        AdamLossList.append(testLoss3)\n",
    "        DAdam = stochasticGradientDescent(dataArray, dataLabel, weightsAdam, alpha3)\n",
    "        weightsAdam, adamM, adamV = adamUpdateWeights(weightsAdam, DAdam, adamM, adamV, belta1, belta2, adamAlpha, i+1)\n",
    "    plotPicture(NAGLossList, RMSLossList, ADALossList, AdamLossList)"
   ]
  },
  {
   "cell_type": "code",
   "execution_count": 78,
   "metadata": {},
   "outputs": [
    {
     "data": {
      "image/png": "[encoded data removed]",
      "text/plain": [
       "<matplotlib.figure.Figure at 0x85858b0>"
      ]
     },
     "metadata": {},
     "output_type": "display_data"
    }
   ],
   "source": [
    "run()"
   ]
  },
  {
   "cell_type": "code",
   "execution_count": null,
   "metadata": {
    "collapsed": true
   },
   "outputs": [],
   "source": []
  },
  {
   "cell_type": "code",
   "execution_count": null,
   "metadata": {
    "collapsed": true
   },
   "outputs": [],
   "source": []
  }
 ],
 "metadata": {
  "kernelspec": {
   "display_name": "Python 3",
   "language": "python",
   "name": "python3"
  },
  "language_info": {
   "codemirror_mode": {
    "name": "ipython",
    "version": 3
   },
   "file_extension": ".py",
   "mimetype": "text/x-python",
   "name": "python",
   "nbconvert_exporter": "python",
   "pygments_lexer": "ipython3",
   "version": "3.6.3"
  }
 },
 "nbformat": 4,
 "nbformat_minor": 2
}
